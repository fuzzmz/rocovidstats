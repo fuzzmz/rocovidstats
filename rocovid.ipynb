{
 "cells": [
  {
   "cell_type": "markdown",
   "metadata": {},
   "source": [
    "### Set up imports"
   ]
  },
  {
   "cell_type": "code",
   "execution_count": 1,
   "metadata": {},
   "outputs": [],
   "source": [
    "import pandas as pd\n",
    "import altair as alt\n",
    "import matplotlib.pyplot as plt"
   ]
  },
  {
   "cell_type": "markdown",
   "metadata": {},
   "source": [
    "### Load data"
   ]
  },
  {
   "cell_type": "code",
   "execution_count": 2,
   "metadata": {},
   "outputs": [],
   "source": [
    "# df = pd.read_excel('vaccinare-covid19-grupe-risc-01-22.03.2021.xlsx')\n",
    "df = pd.read_excel(\"https://data.gov.ro/dataset/b86a78a3-7f88-4b53-a94f-015082592466/resource/bc19c354-644d-4a24-a26f-512129dbc70d/download/vaccinare-covid19-grupe-risc-01-24.03.2021.xlsx\")"
   ]
  },
  {
   "cell_type": "code",
   "execution_count": 3,
   "metadata": {},
   "outputs": [
    {
     "data": {
      "text/html": [
       "<div>\n",
       "<style scoped>\n",
       "    .dataframe tbody tr th:only-of-type {\n",
       "        vertical-align: middle;\n",
       "    }\n",
       "\n",
       "    .dataframe tbody tr th {\n",
       "        vertical-align: top;\n",
       "    }\n",
       "\n",
       "    .dataframe thead th {\n",
       "        text-align: right;\n",
       "    }\n",
       "</style>\n",
       "<table border=\"1\" class=\"dataframe\">\n",
       "  <thead>\n",
       "    <tr style=\"text-align: right;\">\n",
       "      <th></th>\n",
       "      <th>Județ</th>\n",
       "      <th>Localitate</th>\n",
       "      <th>Nume centru</th>\n",
       "      <th>Data vaccinării</th>\n",
       "      <th>Produs</th>\n",
       "      <th>Doze administrate</th>\n",
       "      <th>Doza 1</th>\n",
       "      <th>Doza 2</th>\n",
       "      <th>Grupa de risc</th>\n",
       "    </tr>\n",
       "  </thead>\n",
       "  <tbody>\n",
       "    <tr>\n",
       "      <th>0</th>\n",
       "      <td>NaN</td>\n",
       "      <td>NaN</td>\n",
       "      <td>NaN</td>\n",
       "      <td>NaN</td>\n",
       "      <td>NaN</td>\n",
       "      <td>NaN</td>\n",
       "      <td>NaN</td>\n",
       "      <td>NaN</td>\n",
       "      <td>NaN</td>\n",
       "    </tr>\n",
       "    <tr>\n",
       "      <th>1</th>\n",
       "      <td>Alba</td>\n",
       "      <td>Aiud</td>\n",
       "      <td>SALĂ DE SPORT AIUD</td>\n",
       "      <td>2021-03-01</td>\n",
       "      <td>Pfizer - BIONTech</td>\n",
       "      <td>1.0</td>\n",
       "      <td>1.0</td>\n",
       "      <td>0.0</td>\n",
       "      <td>Categoria I / personalul din medicina primară ...</td>\n",
       "    </tr>\n",
       "    <tr>\n",
       "      <th>2</th>\n",
       "      <td>Alba</td>\n",
       "      <td>Cugir</td>\n",
       "      <td>Foaierul CENTRULUI CULTURAL Cugir</td>\n",
       "      <td>2021-03-01</td>\n",
       "      <td>Pfizer - BIONTech</td>\n",
       "      <td>46.0</td>\n",
       "      <td>46.0</td>\n",
       "      <td>0.0</td>\n",
       "      <td>Categoria a II-a / adulți cu vârsta peste 65 d...</td>\n",
       "    </tr>\n",
       "    <tr>\n",
       "      <th>3</th>\n",
       "      <td>Alba</td>\n",
       "      <td>Alba Iulia</td>\n",
       "      <td>SALĂ DE SPORT-Universitatea 1 Decembrie</td>\n",
       "      <td>2021-03-01</td>\n",
       "      <td>Pfizer - BIONTech</td>\n",
       "      <td>34.0</td>\n",
       "      <td>34.0</td>\n",
       "      <td>0.0</td>\n",
       "      <td>Categoria a II-a / persoanele aflate în eviden...</td>\n",
       "    </tr>\n",
       "    <tr>\n",
       "      <th>4</th>\n",
       "      <td>Alba</td>\n",
       "      <td>Sebes</td>\n",
       "      <td>CENTRUL DE ZI pentru persoane vârstnice Sebes</td>\n",
       "      <td>2021-03-01</td>\n",
       "      <td>Pfizer - BIONTech</td>\n",
       "      <td>2.0</td>\n",
       "      <td>2.0</td>\n",
       "      <td>0.0</td>\n",
       "      <td>Categoria a II-b / personalul din sectorul eco...</td>\n",
       "    </tr>\n",
       "    <tr>\n",
       "      <th>...</th>\n",
       "      <td>...</td>\n",
       "      <td>...</td>\n",
       "      <td>...</td>\n",
       "      <td>...</td>\n",
       "      <td>...</td>\n",
       "      <td>...</td>\n",
       "      <td>...</td>\n",
       "      <td>...</td>\n",
       "      <td>...</td>\n",
       "    </tr>\n",
       "    <tr>\n",
       "      <th>122219</th>\n",
       "      <td>Vrancea</td>\n",
       "      <td>Adjud</td>\n",
       "      <td>SPITAL MUNICIPAL ADJUD</td>\n",
       "      <td>2021-03-23</td>\n",
       "      <td>Pfizer - BIONTech</td>\n",
       "      <td>3.0</td>\n",
       "      <td>1.0</td>\n",
       "      <td>2.0</td>\n",
       "      <td>Categoria a II-b / personalul din sectorul eco...</td>\n",
       "    </tr>\n",
       "    <tr>\n",
       "      <th>122220</th>\n",
       "      <td>Vrancea</td>\n",
       "      <td>Focsani</td>\n",
       "      <td>Centru_S_centru_1_Sala Sport Suraia</td>\n",
       "      <td>2021-03-23</td>\n",
       "      <td>Pfizer - BIONTech</td>\n",
       "      <td>32.0</td>\n",
       "      <td>1.0</td>\n",
       "      <td>31.0</td>\n",
       "      <td>Categoria a II-a / adulți cu vârsta peste 65 d...</td>\n",
       "    </tr>\n",
       "    <tr>\n",
       "      <th>122221</th>\n",
       "      <td>Vrancea</td>\n",
       "      <td>Panciu</td>\n",
       "      <td>Centrul de cronici Panciu</td>\n",
       "      <td>2021-03-23</td>\n",
       "      <td>Astra-Zeneca</td>\n",
       "      <td>1.0</td>\n",
       "      <td>1.0</td>\n",
       "      <td>0.0</td>\n",
       "      <td>Categoria a II-a / persoanele aflate în eviden...</td>\n",
       "    </tr>\n",
       "    <tr>\n",
       "      <th>122222</th>\n",
       "      <td>Vrancea</td>\n",
       "      <td>Suraia</td>\n",
       "      <td>Centru 3_Sala de sport  Suraia</td>\n",
       "      <td>2021-03-23</td>\n",
       "      <td>Moderna</td>\n",
       "      <td>13.0</td>\n",
       "      <td>13.0</td>\n",
       "      <td>0.0</td>\n",
       "      <td>Categoria a II-a / adulți cu vârsta peste 65 d...</td>\n",
       "    </tr>\n",
       "    <tr>\n",
       "      <th>122223</th>\n",
       "      <td>Vrancea</td>\n",
       "      <td>Adjud</td>\n",
       "      <td>SPITAL MUNICIPAL ADJUD</td>\n",
       "      <td>2021-03-23</td>\n",
       "      <td>Pfizer - BIONTech</td>\n",
       "      <td>1.0</td>\n",
       "      <td>0.0</td>\n",
       "      <td>1.0</td>\n",
       "      <td>Categoria I / personalul din medicina primară ...</td>\n",
       "    </tr>\n",
       "  </tbody>\n",
       "</table>\n",
       "<p>122224 rows × 9 columns</p>\n",
       "</div>"
      ],
      "text/plain": [
       "          Județ  Localitate                                    Nume centru  \\\n",
       "0           NaN         NaN                                            NaN   \n",
       "1          Alba        Aiud                             SALĂ DE SPORT AIUD   \n",
       "2          Alba       Cugir              Foaierul CENTRULUI CULTURAL Cugir   \n",
       "3          Alba  Alba Iulia        SALĂ DE SPORT-Universitatea 1 Decembrie   \n",
       "4          Alba       Sebes  CENTRUL DE ZI pentru persoane vârstnice Sebes   \n",
       "...         ...         ...                                            ...   \n",
       "122219  Vrancea       Adjud                         SPITAL MUNICIPAL ADJUD   \n",
       "122220  Vrancea     Focsani            Centru_S_centru_1_Sala Sport Suraia   \n",
       "122221  Vrancea      Panciu                      Centrul de cronici Panciu   \n",
       "122222  Vrancea      Suraia                 Centru 3_Sala de sport  Suraia   \n",
       "122223  Vrancea       Adjud                         SPITAL MUNICIPAL ADJUD   \n",
       "\n",
       "       Data vaccinării             Produs  Doze administrate  Doza 1  Doza 2  \\\n",
       "0                  NaN                NaN                NaN     NaN     NaN   \n",
       "1           2021-03-01  Pfizer - BIONTech                1.0     1.0     0.0   \n",
       "2           2021-03-01  Pfizer - BIONTech               46.0    46.0     0.0   \n",
       "3           2021-03-01  Pfizer - BIONTech               34.0    34.0     0.0   \n",
       "4           2021-03-01  Pfizer - BIONTech                2.0     2.0     0.0   \n",
       "...                ...                ...                ...     ...     ...   \n",
       "122219      2021-03-23  Pfizer - BIONTech                3.0     1.0     2.0   \n",
       "122220      2021-03-23  Pfizer - BIONTech               32.0     1.0    31.0   \n",
       "122221      2021-03-23       Astra-Zeneca                1.0     1.0     0.0   \n",
       "122222      2021-03-23            Moderna               13.0    13.0     0.0   \n",
       "122223      2021-03-23  Pfizer - BIONTech                1.0     0.0     1.0   \n",
       "\n",
       "                                            Grupa de risc  \n",
       "0                                                     NaN  \n",
       "1       Categoria I / personalul din medicina primară ...  \n",
       "2       Categoria a II-a / adulți cu vârsta peste 65 d...  \n",
       "3       Categoria a II-a / persoanele aflate în eviden...  \n",
       "4       Categoria a II-b / personalul din sectorul eco...  \n",
       "...                                                   ...  \n",
       "122219  Categoria a II-b / personalul din sectorul eco...  \n",
       "122220  Categoria a II-a / adulți cu vârsta peste 65 d...  \n",
       "122221  Categoria a II-a / persoanele aflate în eviden...  \n",
       "122222  Categoria a II-a / adulți cu vârsta peste 65 d...  \n",
       "122223  Categoria I / personalul din medicina primară ...  \n",
       "\n",
       "[122224 rows x 9 columns]"
      ]
     },
     "execution_count": 3,
     "metadata": {},
     "output_type": "execute_result"
    }
   ],
   "source": [
    "df"
   ]
  },
  {
   "cell_type": "markdown",
   "metadata": {},
   "source": [
    "### Clean up"
   ]
  },
  {
   "cell_type": "code",
   "execution_count": 4,
   "metadata": {},
   "outputs": [],
   "source": [
    "df_clean = df.dropna(how='all')"
   ]
  },
  {
   "cell_type": "markdown",
   "metadata": {},
   "source": [
    "### Convert values to correct type"
   ]
  },
  {
   "cell_type": "code",
   "execution_count": 5,
   "metadata": {},
   "outputs": [
    {
     "name": "stderr",
     "output_type": "stream",
     "text": [
      "<ipython-input-5-4268b657900f>:1: SettingWithCopyWarning: \n",
      "A value is trying to be set on a copy of a slice from a DataFrame.\n",
      "Try using .loc[row_indexer,col_indexer] = value instead\n",
      "\n",
      "See the caveats in the documentation: https://pandas.pydata.org/pandas-docs/stable/user_guide/indexing.html#returning-a-view-versus-a-copy\n",
      "  df_clean['Data vaccinării'] = pd.to_datetime(df['Data vaccinării'])\n",
      "<ipython-input-5-4268b657900f>:2: SettingWithCopyWarning: \n",
      "A value is trying to be set on a copy of a slice from a DataFrame.\n",
      "Try using .loc[row_indexer,col_indexer] = value instead\n",
      "\n",
      "See the caveats in the documentation: https://pandas.pydata.org/pandas-docs/stable/user_guide/indexing.html#returning-a-view-versus-a-copy\n",
      "  df_clean['Doze administrate'] = pd.to_numeric(df['Doze administrate'])\n",
      "<ipython-input-5-4268b657900f>:3: SettingWithCopyWarning: \n",
      "A value is trying to be set on a copy of a slice from a DataFrame.\n",
      "Try using .loc[row_indexer,col_indexer] = value instead\n",
      "\n",
      "See the caveats in the documentation: https://pandas.pydata.org/pandas-docs/stable/user_guide/indexing.html#returning-a-view-versus-a-copy\n",
      "  df_clean['Doza 1'] = pd.to_numeric(df['Doza 1'])\n",
      "<ipython-input-5-4268b657900f>:4: SettingWithCopyWarning: \n",
      "A value is trying to be set on a copy of a slice from a DataFrame.\n",
      "Try using .loc[row_indexer,col_indexer] = value instead\n",
      "\n",
      "See the caveats in the documentation: https://pandas.pydata.org/pandas-docs/stable/user_guide/indexing.html#returning-a-view-versus-a-copy\n",
      "  df_clean['Doza 2'] = pd.to_numeric(df['Doza 2'])\n"
     ]
    }
   ],
   "source": [
    "df_clean['Data vaccinării'] = pd.to_datetime(df['Data vaccinării'])\n",
    "df_clean['Doze administrate'] = pd.to_numeric(df['Doze administrate'])\n",
    "df_clean['Doza 1'] = pd.to_numeric(df['Doza 1'])\n",
    "df_clean['Doza 2'] = pd.to_numeric(df['Doza 2'])"
   ]
  },
  {
   "cell_type": "code",
   "execution_count": 6,
   "metadata": {},
   "outputs": [],
   "source": [
    "# df_clean"
   ]
  },
  {
   "cell_type": "markdown",
   "metadata": {
    "pycharm": {
     "name": "#%% md\n"
    }
   },
   "source": [
    "### Add a general category for risk group\n",
    "\n",
    "Despite being only 3 major risk groups, they are split into subgroups. For ease of data manipulation we combine all the subgroups into larger groups."
   ]
  },
  {
   "cell_type": "code",
   "execution_count": 7,
   "metadata": {
    "pycharm": {
     "name": "#%%\n"
    }
   },
   "outputs": [
    {
     "name": "stderr",
     "output_type": "stream",
     "text": [
      "<ipython-input-7-f3077fbb2c1f>:17: SettingWithCopyWarning: \n",
      "A value is trying to be set on a copy of a slice from a DataFrame.\n",
      "Try using .loc[row_indexer,col_indexer] = value instead\n",
      "\n",
      "See the caveats in the documentation: https://pandas.pydata.org/pandas-docs/stable/user_guide/indexing.html#returning-a-view-versus-a-copy\n",
      "  df_clean['Grupa'] = df_clean['Grupa de risc'].map(get_group)\n"
     ]
    }
   ],
   "source": [
    "df_clean['Grupa de risc']\n",
    "\n",
    "def get_group(x):\n",
    "    if 'a I-' in x:\n",
    "        return 1\n",
    "    elif 'Categoria I /' in x:\n",
    "        return 1\n",
    "    elif 'a II-' in x:\n",
    "        return 2\n",
    "    elif 'a II a' in x:\n",
    "        return 2\n",
    "    elif 'a III-' in x:\n",
    "        return 3\n",
    "    else:\n",
    "        return 4\n",
    "\n",
    "df_clean['Grupa'] = df_clean['Grupa de risc'].map(get_group)"
   ]
  },
  {
   "cell_type": "code",
   "execution_count": 8,
   "metadata": {},
   "outputs": [],
   "source": [
    "# df_clean.loc[df_clean['Grupa'] == 2]"
   ]
  },
  {
   "cell_type": "markdown",
   "metadata": {},
   "source": [
    "### Get the total vaccines per category"
   ]
  },
  {
   "cell_type": "code",
   "execution_count": 9,
   "metadata": {},
   "outputs": [
    {
     "data": {
      "text/html": [
       "<div>\n",
       "<style scoped>\n",
       "    .dataframe tbody tr th:only-of-type {\n",
       "        vertical-align: middle;\n",
       "    }\n",
       "\n",
       "    .dataframe tbody tr th {\n",
       "        vertical-align: top;\n",
       "    }\n",
       "\n",
       "    .dataframe thead th {\n",
       "        text-align: right;\n",
       "    }\n",
       "</style>\n",
       "<table border=\"1\" class=\"dataframe\">\n",
       "  <thead>\n",
       "    <tr style=\"text-align: right;\">\n",
       "      <th></th>\n",
       "      <th>Doze administrate</th>\n",
       "      <th>Doza 1</th>\n",
       "      <th>Doza 2</th>\n",
       "    </tr>\n",
       "    <tr>\n",
       "      <th>Grupa</th>\n",
       "      <th></th>\n",
       "      <th></th>\n",
       "      <th></th>\n",
       "    </tr>\n",
       "  </thead>\n",
       "  <tbody>\n",
       "    <tr>\n",
       "      <th>1</th>\n",
       "      <td>50192.0</td>\n",
       "      <td>37925.0</td>\n",
       "      <td>12267.0</td>\n",
       "    </tr>\n",
       "    <tr>\n",
       "      <th>2</th>\n",
       "      <td>1013781.0</td>\n",
       "      <td>816569.0</td>\n",
       "      <td>197212.0</td>\n",
       "    </tr>\n",
       "    <tr>\n",
       "      <th>3</th>\n",
       "      <td>37865.0</td>\n",
       "      <td>35566.0</td>\n",
       "      <td>2299.0</td>\n",
       "    </tr>\n",
       "  </tbody>\n",
       "</table>\n",
       "</div>"
      ],
      "text/plain": [
       "       Doze administrate    Doza 1    Doza 2\n",
       "Grupa                                       \n",
       "1                50192.0   37925.0   12267.0\n",
       "2              1013781.0  816569.0  197212.0\n",
       "3                37865.0   35566.0    2299.0"
      ]
     },
     "execution_count": 9,
     "metadata": {},
     "output_type": "execute_result"
    }
   ],
   "source": [
    "results = df_clean.groupby('Grupa').sum()\n",
    "results"
   ]
  },
  {
   "cell_type": "markdown",
   "metadata": {},
   "source": [
    "### Show some stats"
   ]
  },
  {
   "cell_type": "code",
   "execution_count": 10,
   "metadata": {},
   "outputs": [
    {
     "data": {
      "text/html": [
       "\n",
       "<div id=\"altair-viz-29131c3dcedf484eb056be4b44c031e6\"></div>\n",
       "<script type=\"text/javascript\">\n",
       "  (function(spec, embedOpt){\n",
       "    let outputDiv = document.currentScript.previousElementSibling;\n",
       "    if (outputDiv.id !== \"altair-viz-29131c3dcedf484eb056be4b44c031e6\") {\n",
       "      outputDiv = document.getElementById(\"altair-viz-29131c3dcedf484eb056be4b44c031e6\");\n",
       "    }\n",
       "    const paths = {\n",
       "      \"vega\": \"https://cdn.jsdelivr.net/npm//vega@5?noext\",\n",
       "      \"vega-lib\": \"https://cdn.jsdelivr.net/npm//vega-lib?noext\",\n",
       "      \"vega-lite\": \"https://cdn.jsdelivr.net/npm//vega-lite@4.8.1?noext\",\n",
       "      \"vega-embed\": \"https://cdn.jsdelivr.net/npm//vega-embed@6?noext\",\n",
       "    };\n",
       "\n",
       "    function loadScript(lib) {\n",
       "      return new Promise(function(resolve, reject) {\n",
       "        var s = document.createElement('script');\n",
       "        s.src = paths[lib];\n",
       "        s.async = true;\n",
       "        s.onload = () => resolve(paths[lib]);\n",
       "        s.onerror = () => reject(`Error loading script: ${paths[lib]}`);\n",
       "        document.getElementsByTagName(\"head\")[0].appendChild(s);\n",
       "      });\n",
       "    }\n",
       "\n",
       "    function showError(err) {\n",
       "      outputDiv.innerHTML = `<div class=\"error\" style=\"color:red;\">${err}</div>`;\n",
       "      throw err;\n",
       "    }\n",
       "\n",
       "    function displayChart(vegaEmbed) {\n",
       "      vegaEmbed(outputDiv, spec, embedOpt)\n",
       "        .catch(err => showError(`Javascript Error: ${err.message}<br>This usually means there's a typo in your chart specification. See the javascript console for the full traceback.`));\n",
       "    }\n",
       "\n",
       "    if(typeof define === \"function\" && define.amd) {\n",
       "      requirejs.config({paths});\n",
       "      require([\"vega-embed\"], displayChart, err => showError(`Error loading script: ${err.message}`));\n",
       "    } else if (typeof vegaEmbed === \"function\") {\n",
       "      displayChart(vegaEmbed);\n",
       "    } else {\n",
       "      loadScript(\"vega\")\n",
       "        .then(() => loadScript(\"vega-lite\"))\n",
       "        .then(() => loadScript(\"vega-embed\"))\n",
       "        .catch(showError)\n",
       "        .then(() => displayChart(vegaEmbed));\n",
       "    }\n",
       "  })({\"config\": {\"view\": {\"continuousWidth\": 400, \"continuousHeight\": 300}}, \"data\": {\"name\": \"data-3bfa15cb22f1048784ea620508243a7d\"}, \"mark\": {\"type\": \"bar\", \"size\": 50}, \"encoding\": {\"x\": {\"type\": \"nominal\", \"field\": \"Categorii\"}, \"y\": {\"type\": \"quantitative\", \"field\": \"Numar vaccinari\"}}, \"width\": {\"step\": 100}, \"$schema\": \"https://vega.github.io/schema/vega-lite/v4.8.1.json\", \"datasets\": {\"data-3bfa15cb22f1048784ea620508243a7d\": [{\"Categorii\": \"Categoria 1\", \"Numar vaccinari\": 50192.0}, {\"Categorii\": \"Categoria 2\", \"Numar vaccinari\": 1013781.0}, {\"Categorii\": \"Categoria 3\", \"Numar vaccinari\": 37865.0}]}}, {\"mode\": \"vega-lite\"});\n",
       "</script>"
      ],
      "text/plain": [
       "alt.Chart(...)"
      ]
     },
     "execution_count": 10,
     "metadata": {},
     "output_type": "execute_result"
    }
   ],
   "source": [
    "categories = ['Categoria 1', 'Categoria 2', 'Categoria 3']\n",
    "\n",
    "source = pd.DataFrame({\n",
    "    'Categorii': categories,\n",
    "    'Numar vaccinari': results['Doze administrate']\n",
    "})\n",
    "\n",
    "\n",
    "alt.Chart(source).mark_bar(size=50).encode(\n",
    "    x='Categorii',\n",
    "    y='Numar vaccinari'\n",
    ").properties(width=alt.Step(100))"
   ]
  },
  {
   "cell_type": "code",
   "execution_count": 11,
   "metadata": {},
   "outputs": [
    {
     "data": {
      "image/png": "[encoded data removed]",
      "text/plain": [
       "<Figure size 432x288 with 1 Axes>"
      ]
     },
     "metadata": {},
     "output_type": "display_data"
    }
   ],
   "source": [
    "fig1, ax1 = plt.subplots()\n",
    "ax1.pie(results['Doze administrate'], labels=categories, autopct='%1.1f%%')\n",
    "ax1.axis('equal')  # Equal aspect ratio ensures that pie is drawn as a circle.\n",
    "\n",
    "plt.show()"
   ]
  },
  {
   "cell_type": "markdown",
   "metadata": {},
   "source": [
    "### Generate stats for Bucharest"
   ]
  },
  {
   "cell_type": "code",
   "execution_count": 12,
   "metadata": {},
   "outputs": [
    {
     "data": {
      "text/html": [
       "<div>\n",
       "<style scoped>\n",
       "    .dataframe tbody tr th:only-of-type {\n",
       "        vertical-align: middle;\n",
       "    }\n",
       "\n",
       "    .dataframe tbody tr th {\n",
       "        vertical-align: top;\n",
       "    }\n",
       "\n",
       "    .dataframe thead th {\n",
       "        text-align: right;\n",
       "    }\n",
       "</style>\n",
       "<table border=\"1\" class=\"dataframe\">\n",
       "  <thead>\n",
       "    <tr style=\"text-align: right;\">\n",
       "      <th></th>\n",
       "      <th>Doze administrate</th>\n",
       "      <th>Doza 1</th>\n",
       "      <th>Doza 2</th>\n",
       "    </tr>\n",
       "    <tr>\n",
       "      <th>Grupa</th>\n",
       "      <th></th>\n",
       "      <th></th>\n",
       "      <th></th>\n",
       "    </tr>\n",
       "  </thead>\n",
       "  <tbody>\n",
       "    <tr>\n",
       "      <th>1</th>\n",
       "      <td>10277.0</td>\n",
       "      <td>7205.0</td>\n",
       "      <td>3072.0</td>\n",
       "    </tr>\n",
       "    <tr>\n",
       "      <th>2</th>\n",
       "      <td>142323.0</td>\n",
       "      <td>114873.0</td>\n",
       "      <td>27450.0</td>\n",
       "    </tr>\n",
       "    <tr>\n",
       "      <th>3</th>\n",
       "      <td>3145.0</td>\n",
       "      <td>2437.0</td>\n",
       "      <td>708.0</td>\n",
       "    </tr>\n",
       "  </tbody>\n",
       "</table>\n",
       "</div>"
      ],
      "text/plain": [
       "       Doze administrate    Doza 1   Doza 2\n",
       "Grupa                                      \n",
       "1                10277.0    7205.0   3072.0\n",
       "2               142323.0  114873.0  27450.0\n",
       "3                 3145.0    2437.0    708.0"
      ]
     },
     "execution_count": 12,
     "metadata": {},
     "output_type": "execute_result"
    }
   ],
   "source": [
    "df_bucuresti = df_clean.loc[df_clean['Județ'] == 'Bucuresti']\n",
    "\n",
    "results_buc = df_bucuresti.groupby('Grupa').sum()\n",
    "results_buc"
   ]
  },
  {
   "cell_type": "code",
   "execution_count": 13,
   "metadata": {},
   "outputs": [
    {
     "data": {
      "text/html": [
       "\n",
       "<div id=\"altair-viz-3aa33d041fb14ceeaaf5982ce8c2655b\"></div>\n",
       "<script type=\"text/javascript\">\n",
       "  (function(spec, embedOpt){\n",
       "    let outputDiv = document.currentScript.previousElementSibling;\n",
       "    if (outputDiv.id !== \"altair-viz-3aa33d041fb14ceeaaf5982ce8c2655b\") {\n",
       "      outputDiv = document.getElementById(\"altair-viz-3aa33d041fb14ceeaaf5982ce8c2655b\");\n",
       "    }\n",
       "    const paths = {\n",
       "      \"vega\": \"https://cdn.jsdelivr.net/npm//vega@5?noext\",\n",
       "      \"vega-lib\": \"https://cdn.jsdelivr.net/npm//vega-lib?noext\",\n",
       "      \"vega-lite\": \"https://cdn.jsdelivr.net/npm//vega-lite@4.8.1?noext\",\n",
       "      \"vega-embed\": \"https://cdn.jsdelivr.net/npm//vega-embed@6?noext\",\n",
       "    };\n",
       "\n",
       "    function loadScript(lib) {\n",
       "      return new Promise(function(resolve, reject) {\n",
       "        var s = document.createElement('script');\n",
       "        s.src = paths[lib];\n",
       "        s.async = true;\n",
       "        s.onload = () => resolve(paths[lib]);\n",
       "        s.onerror = () => reject(`Error loading script: ${paths[lib]}`);\n",
       "        document.getElementsByTagName(\"head\")[0].appendChild(s);\n",
       "      });\n",
       "    }\n",
       "\n",
       "    function showError(err) {\n",
       "      outputDiv.innerHTML = `<div class=\"error\" style=\"color:red;\">${err}</div>`;\n",
       "      throw err;\n",
       "    }\n",
       "\n",
       "    function displayChart(vegaEmbed) {\n",
       "      vegaEmbed(outputDiv, spec, embedOpt)\n",
       "        .catch(err => showError(`Javascript Error: ${err.message}<br>This usually means there's a typo in your chart specification. See the javascript console for the full traceback.`));\n",
       "    }\n",
       "\n",
       "    if(typeof define === \"function\" && define.amd) {\n",
       "      requirejs.config({paths});\n",
       "      require([\"vega-embed\"], displayChart, err => showError(`Error loading script: ${err.message}`));\n",
       "    } else if (typeof vegaEmbed === \"function\") {\n",
       "      displayChart(vegaEmbed);\n",
       "    } else {\n",
       "      loadScript(\"vega\")\n",
       "        .then(() => loadScript(\"vega-lite\"))\n",
       "        .then(() => loadScript(\"vega-embed\"))\n",
       "        .catch(showError)\n",
       "        .then(() => displayChart(vegaEmbed));\n",
       "    }\n",
       "  })({\"config\": {\"view\": {\"continuousWidth\": 400, \"continuousHeight\": 300}}, \"data\": {\"name\": \"data-0fff0b7044d09e76485fdb1287ec8b67\"}, \"mark\": {\"type\": \"bar\", \"size\": 50}, \"encoding\": {\"x\": {\"type\": \"nominal\", \"field\": \"Categorii\"}, \"y\": {\"type\": \"quantitative\", \"field\": \"Numar vaccinari\"}}, \"width\": {\"step\": 100}, \"$schema\": \"https://vega.github.io/schema/vega-lite/v4.8.1.json\", \"datasets\": {\"data-0fff0b7044d09e76485fdb1287ec8b67\": [{\"Categorii\": \"Categoria 1\", \"Numar vaccinari\": 10277.0}, {\"Categorii\": \"Categoria 2\", \"Numar vaccinari\": 142323.0}, {\"Categorii\": \"Categoria 3\", \"Numar vaccinari\": 3145.0}]}}, {\"mode\": \"vega-lite\"});\n",
       "</script>"
      ],
      "text/plain": [
       "alt.Chart(...)"
      ]
     },
     "execution_count": 13,
     "metadata": {},
     "output_type": "execute_result"
    }
   ],
   "source": [
    "source = pd.DataFrame({\n",
    "    'Categorii': categories,\n",
    "    'Numar vaccinari': results_buc['Doze administrate']\n",
    "})\n",
    "\n",
    "\n",
    "alt.Chart(source).mark_bar(size=50).encode(\n",
    "    x='Categorii',\n",
    "    y='Numar vaccinari'\n",
    ").properties(width=alt.Step(100))"
   ]
  }
 ],
 "metadata": {
  "kernelspec": {
   "display_name": "Python 3",
   "language": "python",
   "name": "python3"
  },
  "language_info": {
   "codemirror_mode": {
    "name": "ipython",
    "version": 3
   },
   "file_extension": ".py",
   "mimetype": "text/x-python",
   "name": "python",
   "nbconvert_exporter": "python",
   "pygments_lexer": "ipython3",
   "version": "3.8.8"
  }
 },
 "nbformat": 4,
 "nbformat_minor": 4
}
